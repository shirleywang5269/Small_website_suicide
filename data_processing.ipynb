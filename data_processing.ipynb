{
 "cells": [
  {
   "cell_type": "markdown",
   "metadata": {},
   "source": [
    "## Read and merge All 4-year Suicide Data in recent 20 years (1999-2018)"
   ]
  },
  {
   "cell_type": "code",
   "execution_count": null,
   "metadata": {},
   "outputs": [],
   "source": [
    "import pandas as pd\n",
    "import plotly.express as px  # (version 4.7.0)\n",
    "import plotly.graph_objects as go\n",
    "\n",
    "import dash  # (version 1.12.0) pip install dash\n",
    "import dash_core_components as dcc\n",
    "import dash_html_components as html\n",
    "from dash.dependencies import Input, Output\n",
    "\n",
    "app = dash.Dash(__name__)"
   ]
  },
  {
   "cell_type": "code",
   "execution_count": null,
   "metadata": {},
   "outputs": [],
   "source": []
  },
  {
   "cell_type": "code",
   "execution_count": null,
   "metadata": {},
   "outputs": [],
   "source": [
    "import pandas as pd\n",
    "\n",
    "\n",
    "\n",
    "suicide = pd.DataFrame()\n",
    "file_list = ['1999-2002.txt', '2003-2006.txt', '2007-2010.txt','2011-2014.txt','2015-2018.txt']\n",
    "for file_name in file_list:\n",
    "    tmp = pd.read_csv(file_name,sep='\\t')\n",
    "    tmp=tmp.drop(columns=\"Notes\")\n",
    "    tmp['Year'] = file_name\n",
    "    tmp['Year'] = tmp['Year'].str.replace(r'.txt$', '')\n",
    "    tmp['Year'] = tmp['Year'].str.split('-').str[1]\n",
    "    tmp['Suicide_Death_Rate']=(tmp['Deaths']/tmp.Population)*100000\n",
    "    tmp['County Code']=tmp['County Code'].astype(str)\n",
    "    tmp['County Code']= tmp['County Code'].apply(lambda x: x.zfill(5))\n",
    "    tmp=tmp.rename(columns={\"County Code\":\"FIPS\"})\n",
    "    tmp['Year']=tmp['Year'].astype(int)\n",
    "\n",
    "    tmp=tmp.drop(columns=\"Crude Rate\")\n",
    "    suicide = suicide.append(tmp)\n",
    "\n",
    "suicide"
   ]
  },
  {
   "cell_type": "code",
   "execution_count": null,
   "metadata": {},
   "outputs": [],
   "source": []
  },
  {
   "cell_type": "code",
   "execution_count": null,
   "metadata": {},
   "outputs": [],
   "source": [
    "# ------------------------------------------------------------------------------\n",
    "# App layout\n",
    "app.layout = html.Div([\n",
    "\n",
    "    html.H1(\"Web Application Dashboards with Dash\", style={'text-align': 'center'}),\n",
    "\n",
    "    dcc.Dropdown(id=\"slct_year\",\n",
    "                 options=[\n",
    "                     {\"label\": \"1999-2002\", \"value\": 2002},\n",
    "                     {\"label\": \"2003-2006\", \"value\": 2006},\n",
    "                     {\"label\": \"2007-2010\", \"value\": 2010},\n",
    "                     {\"label\": \"2011-2014\", \"value\": 2014}],\n",
    "                 multi=False,\n",
    "                 value=2002,\n",
    "                 style={'width': \"40%\"}\n",
    "                 ),\n",
    "\n",
    "    html.Div(id='output_container', children=[]),\n",
    "    html.Br(),\n",
    "\n",
    "    dcc.Graph(id='my_bee_map', figure={})\n",
    "\n",
    "])"
   ]
  },
  {
   "cell_type": "code",
   "execution_count": null,
   "metadata": {},
   "outputs": [],
   "source": []
  },
  {
   "cell_type": "code",
   "execution_count": null,
   "metadata": {},
   "outputs": [],
   "source": []
  },
  {
   "cell_type": "code",
   "execution_count": null,
   "metadata": {},
   "outputs": [],
   "source": [
    "import json\n",
    "from urllib.request import urlopen\n",
    "with urlopen('https://raw.githubusercontent.com/plotly/datasets/master/geojson-counties-fips.json') as response:\n",
    "    counties = json.load(response)\n",
    "\n"
   ]
  },
  {
   "cell_type": "code",
   "execution_count": null,
   "metadata": {},
   "outputs": [],
   "source": [
    "dff = suicide.copy()\n",
    "dff\n",
    "dff = dff[dff[\"Year\"] == 2018]\n",
    "\n",
    "dff"
   ]
  },
  {
   "cell_type": "code",
   "execution_count": null,
   "metadata": {},
   "outputs": [],
   "source": []
  },
  {
   "cell_type": "code",
   "execution_count": null,
   "metadata": {},
   "outputs": [],
   "source": []
  },
  {
   "cell_type": "code",
   "execution_count": null,
   "metadata": {},
   "outputs": [],
   "source": []
  },
  {
   "cell_type": "code",
   "execution_count": null,
   "metadata": {},
   "outputs": [],
   "source": [
    "@app.callback(\n",
    "    [Output(component_id='output_container', component_property='children'),\n",
    "     Output(component_id='my_bee_map', component_property='figure')],\n",
    "    [Input(component_id='slct_year', component_property='value')]\n",
    ")\n",
    "def update_graph(option_slctd):\n",
    "    print(option_slctd)\n",
    "    print(type(option_slctd))\n",
    "\n",
    "    container = \"The year chosen by user was: {}\".format(option_slctd)\n",
    "\n",
    "    dff = suicide.copy()\n",
    "    dff = dff[dff[\"Year\"] == option_slctd]\n",
    "\n",
    "    # Plotly Express\n",
    "    fig = px.choropleth_mapbox(dff, geojson=counties, color=\"Suicide_Death_Rate\",\n",
    "                           locations=\"FIPS\",\n",
    "                           hover_name=\"County\", hover_data=[\"Deaths\", \"Population\",\"Suicide_Death_Rate\"],\n",
    "                           center={\"lat\": 38.72490, \"lon\": -95.61446},\n",
    "                           mapbox_style=\"carto-positron\", zoom=3)\n",
    "\n",
    "    fig.update_layout(margin={\"r\":0,\"t\":0,\"l\":0,\"b\":0})\n",
    "#     fig.update_layout(\n",
    "#         title_text=\"Bees Affected by Mites in the USA\",\n",
    "#         title_xanchor=\"center\",\n",
    "#         title_font=dict(size=24),\n",
    "#         title_x=0.5,\n",
    "#         geo=dict(scope='usa'),\n",
    "#     )\n",
    "\n",
    "    return container, fig\n",
    "\n",
    "\n",
    "# ------------------------------------------------------------------------------\n",
    "if __name__ == '__main__':\n",
    "    app.run_server(debug=False)"
   ]
  },
  {
   "cell_type": "code",
   "execution_count": null,
   "metadata": {},
   "outputs": [],
   "source": []
  },
  {
   "cell_type": "code",
   "execution_count": null,
   "metadata": {},
   "outputs": [],
   "source": []
  },
  {
   "cell_type": "code",
   "execution_count": null,
   "metadata": {},
   "outputs": [],
   "source": []
  },
  {
   "cell_type": "code",
   "execution_count": null,
   "metadata": {},
   "outputs": [],
   "source": []
  }
 ],
 "metadata": {
  "kernelspec": {
   "display_name": "Python 3",
   "language": "python",
   "name": "python3"
  },
  "language_info": {
   "codemirror_mode": {
    "name": "ipython",
    "version": 3
   },
   "file_extension": ".py",
   "mimetype": "text/x-python",
   "name": "python",
   "nbconvert_exporter": "python",
   "pygments_lexer": "ipython3",
   "version": "3.7.6"
  }
 },
 "nbformat": 4,
 "nbformat_minor": 4
}
